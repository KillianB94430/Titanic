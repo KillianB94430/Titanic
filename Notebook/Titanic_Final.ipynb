{
 "cells": [
  {
   "cell_type": "markdown",
   "id": "17cbc472-be4a-4e3c-bef4-c43a3d00aaac",
   "metadata": {},
   "source": [
    "## Importations des bibliothèques\n"
   ]
  },
  {
   "cell_type": "code",
   "execution_count": 22,
   "id": "78eb0654-6350-41a0-a4ad-c0e8ed31c7b3",
   "metadata": {},
   "outputs": [],
   "source": [
    "import pandas as pd\n",
    "import numpy as np\n",
    "import matplotlib.pyplot as plt\n",
    "from sklearn.model_selection import train_test_split\n",
    "from sklearn.ensemble import RandomForestClassifier\n",
    "from sklearn.metrics import accuracy_score\n",
    "import mlflow\n",
    "import mlflow.sklearn\n",
    "from mlflow.tracking import MlflowClient\n",
    "from datetime import datetime\n",
    "import warnings\n"
   ]
  },
  {
   "cell_type": "markdown",
   "id": "385a95f2-a068-40c3-8d5f-c15ca6ab3856",
   "metadata": {},
   "source": [
    "## Chargement des données\n"
   ]
  },
  {
   "cell_type": "code",
   "execution_count": 23,
   "id": "c8a92a90-3491-4480-9db3-2a80a03a5eff",
   "metadata": {},
   "outputs": [
    {
     "name": "stdout",
     "output_type": "stream",
     "text": [
      "Index(['PassengerId', 'Survived', 'Pclass', 'Name', 'Sex', 'Age', 'SibSp',\n",
      "       'Parch', 'Ticket', 'Fare', 'Cabin', 'Embarked'],\n",
      "      dtype='object')\n",
      "Index(['PassengerId', 'Pclass', 'Name', 'Sex', 'Age', 'SibSp', 'Parch',\n",
      "       'Ticket', 'Fare', 'Cabin', 'Embarked'],\n",
      "      dtype='object')\n"
     ]
    }
   ],
   "source": [
    "# Charger les données\n",
    "train_df = pd.read_csv('../Data/train.csv')\n",
    "test_df = pd.read_csv('../Data/test.csv')\n",
    "print(train_df.columns)\n",
    "print(test_df.columns)\n",
    "\n"
   ]
  },
  {
   "cell_type": "markdown",
   "id": "d1ba79c4-2d2e-4ee5-9970-3918df8eccad",
   "metadata": {},
   "source": [
    "## Nettoyage de Données"
   ]
  },
  {
   "cell_type": "code",
   "execution_count": 24,
   "id": "c8b3b09a-2116-43b4-88c7-cdf069cf5567",
   "metadata": {},
   "outputs": [],
   "source": [
    "warnings.filterwarnings('ignore')\n",
    "\n",
    "# Vérifier la présence de la colonne 'Embarked'\n",
    "if 'Embarked' in train_df.columns:\n",
    "    # Remplir les valeurs manquantes pour 'Embarked' avec la valeur la plus fréquente (si présente)\n",
    "    train_df['Embarked'].fillna(train_df['Embarked'].mode()[0], inplace=True)\n",
    "else:\n",
    "    print(\"La colonne 'Embarked' n'est pas présente dans train_df\")\n",
    "\n",
    "if 'Embarked' in test_df.columns:\n",
    "    test_df['Embarked'].fillna(test_df['Embarked'].mode()[0], inplace=True)\n",
    "else:\n",
    "    print(\"La colonne 'Embarked' n'est pas présente dans test_df\")\n",
    "\n",
    "# Remplir les valeurs manquantes pour 'Age' avec la médiane\n",
    "train_df['Age'].fillna(train_df['Age'].median(), inplace=True)\n",
    "test_df['Age'].fillna(test_df['Age'].median(), inplace=True)\n",
    "\n",
    "# Remplir les valeurs manquantes pour 'Embarked' avec la valeur la plus fréquente\n",
    "train_df['Embarked'].fillna(train_df['Embarked'].mode()[0], inplace=True)\n",
    "test_df['Embarked'].fillna(test_df['Embarked'].mode()[0], inplace=True)\n",
    "\n",
    "# Remplir les valeurs manquantes pour 'Fare' dans le jeu de test avec la médiane\n",
    "test_df['Fare'].fillna(test_df['Fare'].median(), inplace=True)\n",
    "\n",
    "# Supprimer la colonne 'Cabin' car elle contient trop de valeurs manquantes\n",
    "train_df.drop('Cabin', axis=1, inplace=True)\n",
    "test_df.drop('Cabin', axis=1, inplace=True)\n",
    "\n",
    "# Créer une nouvelle feature 'FamilySize' à partir de 'SibSp' et 'Parch'\n",
    "train_df['FamilySize'] = train_df['SibSp'] + train_df['Parch'] + 1\n",
    "test_df['FamilySize'] = test_df['SibSp'] + test_df['Parch'] + 1\n",
    "\n",
    "# Créer une nouvelle feature 'IsAlone' à partir de 'FamilySize'\n",
    "train_df['IsAlone'] = 1\n",
    "train_df.loc[train_df['FamilySize'] > 1, 'IsAlone'] = 0\n",
    "test_df['IsAlone'] = 1\n",
    "test_df.loc[test_df['FamilySize'] > 1, 'IsAlone'] = 0\n",
    "\n",
    "# Supprimer les colonnes inutiles\n",
    "train_df = train_df.drop(['Name', 'Ticket', 'SibSp', 'Parch'], axis=1)\n",
    "test_df = test_df.drop(['Name', 'Ticket', 'SibSp', 'Parch'], axis=1)\n",
    "\n",
    "# Convertir la feature 'Sex' en numérique\n",
    "train_df['Sex'] = train_df['Sex'].map({'male': 0, 'female': 1}).astype(int)\n",
    "test_df['Sex'] = test_df['Sex'].map({'male': 0, 'female': 1}).astype(int)\n",
    "\n",
    "# Convertir la feature 'Embarked' en numérique en utilisant le one-hot encoding\n",
    "train_df = pd.get_dummies(train_df, columns=['Embarked'])\n",
    "test_df = pd.get_dummies(test_df, columns=['Embarked'])\n"
   ]
  },
  {
   "cell_type": "markdown",
   "id": "aa5a1800-c0d8-439f-b9e0-1de34d5aa1d8",
   "metadata": {},
   "source": [
    "##  Entraîner le modèle avec MLflow"
   ]
  },
  {
   "cell_type": "code",
   "execution_count": 25,
   "id": "3617b371-0af8-4954-be55-d666c7015303",
   "metadata": {},
   "outputs": [
    {
     "name": "stdout",
     "output_type": "stream",
     "text": [
      "Validation Accuracy: 0.8435754189944135\n",
      "Model URI: runs:/80184fa45d4443ed884290d691e7a43f/model\n",
      "Model version 1 with run_id 80184fa45d4443ed884290d691e7a43f is registered to production.\n"
     ]
    }
   ],
   "source": [
    " # Séparer les données d'entraînement\n",
    "X = train_df.drop('Survived', axis=1)\n",
    "y = train_df['Survived']\n",
    "X_train, X_val, y_train, y_val = train_test_split(X, y, test_size=0.2, random_state=42)\n",
    "\n",
    "# Démarrer une nouvelle expérience MLflow\n",
    "mlflow.set_experiment('Titanic')\n",
    "\n",
    "with mlflow.start_run() as run:\n",
    "    # Définir un nom pour le run avec la date et l'heure actuelles\n",
    "    run_name = datetime.now().strftime(\"Run_%Y-%m-%d_%H-%M-%S\")\n",
    "    client = MlflowClient()\n",
    "    client.set_tag(run.info.run_id, \"mlflow.runName\", run_name)\n",
    "    # Entraîner le modèle\n",
    "    model = RandomForestClassifier(n_estimators=100, random_state=42)\n",
    "    model.fit(X_train, y_train)\n",
    "    \n",
    "    # Évaluer le modèle\n",
    "    y_pred = model.predict(X_val)\n",
    "    accuracy = accuracy_score(y_val, y_pred)\n",
    "    print(f'Validation Accuracy: {accuracy}')\n",
    "    \n",
    "    # Enregistrer les paramètres et les métriques dans MLflow\n",
    "    mlflow.log_param('n_estimators', 100)\n",
    "    mlflow.log_param('random_state', 42)\n",
    "    mlflow.log_metric('accuracy', accuracy)\n",
    "    mlflow.sklearn.log_model(model, 'model')\n",
    "    \n",
    "    if accuracy > 0.84:\n",
    "        \n",
    "        model_uri = f'runs:/{mlflow.active_run().info.run_id}/model'\n",
    "        print(f'Model URI: {model_uri}')\n",
    "        \n",
    "        # Creation du modèle\n",
    "        model_name = \"TitanicModel2\"\n",
    "        \n",
    "        try:\n",
    "            client.create_registered_model(model_name)\n",
    "        except mlflow.exceptions.MlflowException as e:\n",
    "            print(f\"Registered model '{model_name}' already exists or another error occurred: {e}\")\n",
    "        \n",
    "        model_version = client.create_model_version(\n",
    "            name=model_name,\n",
    "            source=model_uri,\n",
    "            run_id=run.info.run_id\n",
    "        )\n",
    "\n",
    "        print(f'Model version {model_version.version} with run_id {run.info.run_id} is registered to production.')\n",
    "    else:\n",
    "        print('Model accuracy is below the threshold. Model not registered.')\n",
    "\n",
    "\n"
   ]
  },
  {
   "cell_type": "markdown",
   "id": "7df432dc-9af6-4f42-9173-012c2ce756c8",
   "metadata": {},
   "source": [
    "## Prédictions sur le jeu de test et créer le fichier de soumission"
   ]
  },
  {
   "cell_type": "code",
   "execution_count": 26,
   "id": "2b71ef64-11e9-4e0a-89c3-36fce009eb70",
   "metadata": {},
   "outputs": [],
   "source": [
    "# Faire des prédictions sur le jeu de test\n",
    "predictions = model.predict(test_df)\n",
    "\n",
    "# Créer un fichier de soumission\n",
    "submission = pd.DataFrame({'PassengerId': test_df['PassengerId'], 'Survived': predictions})\n",
    "submission.to_csv('submission.csv', index=False)"
   ]
  },
  {
   "cell_type": "code",
   "execution_count": null,
   "id": "fe728acc-59a3-4959-82e5-1da0e42d1404",
   "metadata": {},
   "outputs": [],
   "source": []
  }
 ],
 "metadata": {
  "kernelspec": {
   "display_name": "mon_projet_env",
   "language": "python",
   "name": "mon_projet_env"
  },
  "language_info": {
   "codemirror_mode": {
    "name": "ipython",
    "version": 3
   },
   "file_extension": ".py",
   "mimetype": "text/x-python",
   "name": "python",
   "nbconvert_exporter": "python",
   "pygments_lexer": "ipython3",
   "version": "3.12.3"
  }
 },
 "nbformat": 4,
 "nbformat_minor": 5
}
