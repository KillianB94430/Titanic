{
 "cells": [
  {
   "cell_type": "markdown",
   "metadata": {},
   "source": [
    "## Importation de bibliothèques"
   ]
  },
  {
   "cell_type": "code",
   "execution_count": 36,
   "metadata": {},
   "outputs": [
    {
     "ename": "ModuleNotFoundError",
     "evalue": "No module named 'h2o'",
     "output_type": "error",
     "traceback": [
      "\u001b[0;31m---------------------------------------------------------------------------\u001b[0m",
      "\u001b[0;31mModuleNotFoundError\u001b[0m                       Traceback (most recent call last)",
      "Cell \u001b[0;32mIn[36], line 9\u001b[0m\n\u001b[1;32m      7\u001b[0m \u001b[38;5;28;01mfrom\u001b[39;00m \u001b[38;5;21;01mdatetime\u001b[39;00m \u001b[38;5;28;01mimport\u001b[39;00m datetime\n\u001b[1;32m      8\u001b[0m \u001b[38;5;28;01mimport\u001b[39;00m \u001b[38;5;21;01mwarnings\u001b[39;00m\n\u001b[0;32m----> 9\u001b[0m \u001b[38;5;28;01mimport\u001b[39;00m \u001b[38;5;21;01mh2o\u001b[39;00m\n\u001b[1;32m     10\u001b[0m \u001b[38;5;28;01mfrom\u001b[39;00m \u001b[38;5;21;01mh2o\u001b[39;00m\u001b[38;5;21;01m.\u001b[39;00m\u001b[38;5;21;01mestimators\u001b[39;00m \u001b[38;5;28;01mimport\u001b[39;00m h2oRandomForestEstimator\n",
      "\u001b[0;31mModuleNotFoundError\u001b[0m: No module named 'h2o'"
     ]
    }
   ],
   "source": [
    "import pandas as pd\n",
    "import numpy as np\n",
    "import matplotlib.pyplot as plt\n",
    "from sklearn.model_selection import train_test_split\n",
    "from sklearn.ensemble import RandomForestClassifier\n",
    "from sklearn.metrics import accuracy_score\n",
    "from datetime import datetime\n",
    "import warnings\n",
    "import h2o\n",
    "from h2o.estimators import h2oRandomForestEstimator\n"
   ]
  },
  {
   "cell_type": "markdown",
   "metadata": {},
   "source": [
    "## Chargement et pretraitement des données"
   ]
  },
  {
   "cell_type": "code",
   "execution_count": 37,
   "metadata": {},
   "outputs": [
    {
     "name": "stdout",
     "output_type": "stream",
     "text": [
      "Index(['PassengerId', 'Survived', 'Pclass', 'Name', 'Sex', 'Age', 'SibSp',\n",
      "       'Parch', 'Ticket', 'Fare', 'Cabin', 'Embarked'],\n",
      "      dtype='object')\n",
      "Index(['PassengerId', 'Pclass', 'Name', 'Sex', 'Age', 'SibSp', 'Parch',\n",
      "       'Ticket', 'Fare', 'Cabin', 'Embarked'],\n",
      "      dtype='object')\n"
     ]
    }
   ],
   "source": [
    "train_df = pd.read_csv('../Data/train.csv')\n",
    "test_df = pd.read_csv('../Data/test.csv')\n",
    "print(train_df.columns)\n",
    "print(test_df.columns)\n",
    "\n",
    "warnings.filterwarnings('ignore')\n",
    "\n",
    "# Vérifier la présence de la colonne 'Embarked'\n",
    "if 'Embarked' in train_df.columns:\n",
    "    # Remplir les valeurs manquantes pour 'Embarked' avec la valeur la plus fréquente (si présente)\n",
    "    train_df['Embarked'].fillna(train_df['Embarked'].mode()[0], inplace=True)\n",
    "else:\n",
    "    print(\"La colonne 'Embarked' n'est pas présente dans train_df\")\n",
    "\n",
    "if 'Embarked' in test_df.columns:\n",
    "    test_df['Embarked'].fillna(test_df['Embarked'].mode()[0], inplace=True)\n",
    "else:\n",
    "    print(\"La colonne 'Embarked' n'est pas présente dans test_df\")\n",
    "\n",
    "# Remplir les valeurs manquantes pour 'Age' avec la médiane\n",
    "train_df['Age'].fillna(train_df['Age'].median(), inplace=True)\n",
    "test_df['Age'].fillna(test_df['Age'].median(), inplace=True)\n",
    "\n",
    "# Remplir les valeurs manquantes pour 'Embarked' avec la valeur la plus fréquente\n",
    "train_df['Embarked'].fillna(train_df['Embarked'].mode()[0], inplace=True)\n",
    "test_df['Embarked'].fillna(test_df['Embarked'].mode()[0], inplace=True)\n",
    "\n",
    "# Remplir les valeurs manquantes pour 'Fare' dans le jeu de test avec la médiane\n",
    "test_df['Fare'].fillna(test_df['Fare'].median(), inplace=True)\n",
    "\n",
    "# Supprimer la colonne 'Cabin' car elle contient trop de valeurs manquantes\n",
    "train_df.drop('Cabin', axis=1, inplace=True)\n",
    "test_df.drop('Cabin', axis=1, inplace=True)\n",
    "\n",
    "# Créer une nouvelle feature 'FamilySize' à partir de 'SibSp' et 'Parch'\n",
    "train_df['FamilySize'] = train_df['SibSp'] + train_df['Parch'] + 1\n",
    "test_df['FamilySize'] = test_df['SibSp'] + test_df['Parch'] + 1\n",
    "\n",
    "# Créer une nouvelle feature 'IsAlone' à partir de 'FamilySize'\n",
    "train_df['IsAlone'] = 1\n",
    "train_df.loc[train_df['FamilySize'] > 1, 'IsAlone'] = 0\n",
    "test_df['IsAlone'] = 1\n",
    "test_df.loc[test_df['FamilySize'] > 1, 'IsAlone'] = 0\n",
    "\n",
    "# Supprimer les colonnes inutiles\n",
    "train_df = train_df.drop(['Name', 'Ticket', 'SibSp', 'Parch'], axis=1)\n",
    "test_df = test_df.drop(['Name', 'Ticket', 'SibSp', 'Parch'], axis=1)\n",
    "\n",
    "# Convertir la feature 'Sex' en numérique\n",
    "train_df['Sex'] = train_df['Sex'].map({'male': 0, 'female': 1}).astype(int)\n",
    "test_df['Sex'] = test_df['Sex'].map({'male': 0, 'female': 1}).astype(int)\n",
    "\n",
    "# Convertir la feature 'Embarked' en numérique en utilisant le one-hot encoding (à voir les tech)\n",
    "train_df = pd.get_dummies(train_df, columns=['Embarked'])\n",
    "test_df = pd.get_dummies(test_df, columns=['Embarked'])\n"
   ]
  },
  {
   "cell_type": "markdown",
   "metadata": {},
   "source": [
    "## Séparer les données d'entraînement"
   ]
  },
  {
   "cell_type": "code",
   "execution_count": 38,
   "metadata": {},
   "outputs": [],
   "source": [
    "X = train_df.drop('Survived', axis=1)\n",
    "y = train_df['Survived']\n",
    "X_train, X_val, y_train, y_val = train_test_split(X, y, test_size=0.2, random_state=42)"
   ]
  },
  {
   "cell_type": "markdown",
   "metadata": {},
   "source": [
    "## Démarrer un run MLflow et entraîner le modèle"
   ]
  },
  {
   "cell_type": "code",
   "execution_count": 39,
   "metadata": {},
   "outputs": [
    {
     "ename": "NameError",
     "evalue": "name 'h2o' is not defined",
     "output_type": "error",
     "traceback": [
      "\u001b[0;31m---------------------------------------------------------------------------\u001b[0m",
      "\u001b[0;31mNameError\u001b[0m                                 Traceback (most recent call last)",
      "Cell \u001b[0;32mIn[39], line 1\u001b[0m\n\u001b[0;32m----> 1\u001b[0m train_h2o \u001b[38;5;241m=\u001b[39m \u001b[43mh2o\u001b[49m\u001b[38;5;241m.\u001b[39mH2OFrame(pd\u001b[38;5;241m.\u001b[39mconcat([X, y], axis\u001b[38;5;241m=\u001b[39m\u001b[38;5;241m1\u001b[39m))\n\u001b[1;32m      3\u001b[0m model \u001b[38;5;241m=\u001b[39m H2ORandomForestEstimator(ntrees\u001b[38;5;241m=\u001b[39m\u001b[38;5;241m100\u001b[39m, max_depth\u001b[38;5;241m=\u001b[39m\u001b[38;5;241m20\u001b[39m, seed\u001b[38;5;241m=\u001b[39m\u001b[38;5;241m1\u001b[39m)\n\u001b[1;32m      4\u001b[0m model\u001b[38;5;241m.\u001b[39mtrain(x\u001b[38;5;241m=\u001b[39mX\u001b[38;5;241m.\u001b[39mcolumns\u001b[38;5;241m.\u001b[39mtolist(), y\u001b[38;5;241m=\u001b[39m\u001b[38;5;124m\"\u001b[39m\u001b[38;5;124mSurvived\u001b[39m\u001b[38;5;124m\"\u001b[39m, training_frame\u001b[38;5;241m=\u001b[39mtrain_h2o)\n",
      "\u001b[0;31mNameError\u001b[0m: name 'h2o' is not defined"
     ]
    }
   ],
   "source": [
    "train_h2o = h2o.H2OFrame(pd.concat([X, y], axis=1))\n",
    "\n",
    "model = H2ORandomForestEstimator(ntrees=100, max_depth=20, seed=1)\n",
    "model.train(x=X.columns.tolist(), y=\"Survived\", training_frame=train_h2o)"
   ]
  },
  {
   "cell_type": "markdown",
   "metadata": {},
   "source": [
    "## Évaluer le modèle et enregistrer les métriques dans MLflow"
   ]
  },
  {
   "cell_type": "code",
   "execution_count": 40,
   "metadata": {},
   "outputs": [
    {
     "ename": "NameError",
     "evalue": "name 'h2o' is not defined",
     "output_type": "error",
     "traceback": [
      "\u001b[0;31m---------------------------------------------------------------------------\u001b[0m",
      "\u001b[0;31mNameError\u001b[0m                                 Traceback (most recent call last)",
      "Cell \u001b[0;32mIn[40], line 1\u001b[0m\n\u001b[0;32m----> 1\u001b[0m model_path \u001b[38;5;241m=\u001b[39m \u001b[43mh2o\u001b[49m\u001b[38;5;241m.\u001b[39msave_model(model\u001b[38;5;241m=\u001b[39mmodel, path\u001b[38;5;241m=\u001b[39m\u001b[38;5;124m\"\u001b[39m\u001b[38;5;124m./\u001b[39m\u001b[38;5;124m\"\u001b[39m, force\u001b[38;5;241m=\u001b[39m\u001b[38;5;28;01mTrue\u001b[39;00m)\n\u001b[1;32m      2\u001b[0m \u001b[38;5;28mprint\u001b[39m(\u001b[38;5;124mf\u001b[39m\u001b[38;5;124m\"\u001b[39m\u001b[38;5;124mModel saved to: \u001b[39m\u001b[38;5;132;01m{\u001b[39;00mmodel_path\u001b[38;5;132;01m}\u001b[39;00m\u001b[38;5;124m\"\u001b[39m)\n",
      "\u001b[0;31mNameError\u001b[0m: name 'h2o' is not defined"
     ]
    }
   ],
   "source": [
    "model_path = h2o.save_model(model=model, path=\"./\", force=True)\n",
    "print(f\"Model saved to: {model_path}\")"
   ]
  },
  {
   "cell_type": "markdown",
   "metadata": {},
   "source": [
    "## Faire des prédictions sur le jeu de test et créer un fichier de soumission"
   ]
  },
  {
   "cell_type": "code",
   "execution_count": 41,
   "metadata": {},
   "outputs": [
    {
     "ename": "NameError",
     "evalue": "name 'h2o' is not defined",
     "output_type": "error",
     "traceback": [
      "\u001b[0;31m---------------------------------------------------------------------------\u001b[0m",
      "\u001b[0;31mNameError\u001b[0m                                 Traceback (most recent call last)",
      "Cell \u001b[0;32mIn[41], line 2\u001b[0m\n\u001b[1;32m      1\u001b[0m \u001b[38;5;66;03m# Faire des prédictions sur le jeu de test\u001b[39;00m\n\u001b[0;32m----> 2\u001b[0m test_h2o \u001b[38;5;241m=\u001b[39m \u001b[43mh2o\u001b[49m\u001b[38;5;241m.\u001b[39mH2OFrame(test_df)\n\u001b[1;32m      3\u001b[0m predictions \u001b[38;5;241m=\u001b[39m model\u001b[38;5;241m.\u001b[39mpredict(test_h2o)\u001b[38;5;241m.\u001b[39mas_data_frame()[\u001b[38;5;124m\"\u001b[39m\u001b[38;5;124mpredict\u001b[39m\u001b[38;5;124m\"\u001b[39m]\n\u001b[1;32m      4\u001b[0m \u001b[38;5;66;03m# Créer un fichier de soumission\u001b[39;00m\n",
      "\u001b[0;31mNameError\u001b[0m: name 'h2o' is not defined"
     ]
    }
   ],
   "source": [
    "# Faire des prédictions sur le jeu de test\n",
    "test_h2o = h2o.H2OFrame(test_df)\n",
    "predictions = model.predict(test_h2o).as_data_frame()[\"predict\"]\n",
    "# Créer un fichier de soumission\n",
    "submission = pd.DataFrame({'PassengerId': test_df['PassengerId'], 'Survived': predictions})\n",
    "submission.to_csv('../Results/submission.csv', index=False)"
   ]
  }
 ],
 "metadata": {
  "kernelspec": {
   "display_name": "mon_projet_env",
   "language": "python",
   "name": "mon_projet_env"
  },
  "language_info": {
   "codemirror_mode": {
    "name": "ipython",
    "version": 3
   },
   "file_extension": ".py",
   "mimetype": "text/x-python",
   "name": "python",
   "nbconvert_exporter": "python",
   "pygments_lexer": "ipython3",
   "version": "3.12.3"
  }
 },
 "nbformat": 4,
 "nbformat_minor": 4
}
