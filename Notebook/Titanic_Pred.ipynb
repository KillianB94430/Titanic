{
 "cells": [
  {
   "cell_type": "markdown",
   "id": "8117deb9-6386-4048-99e5-528ef113b4c2",
   "metadata": {},
   "source": [
    "##  Importer les bibliothèques "
   ]
  },
  {
   "cell_type": "code",
   "execution_count": 1,
   "id": "61f64df0-64f7-4701-b995-4dfdf6466a25",
   "metadata": {},
   "outputs": [],
   "source": [
    "import mlflow\n",
    "import mlflow.sklearn\n",
    "import pandas as pd\n",
    "from sklearn.ensemble import RandomForestClassifier\n",
    "from sklearn.metrics import accuracy_score\n"
   ]
  },
  {
   "cell_type": "code",
   "execution_count": 18,
   "id": "0bb973ce-0f46-49c0-81be-91812461f439",
   "metadata": {},
   "outputs": [],
   "source": [
    "# Configurer le tracking URI de MLflow (remplacez par votre chemin)\n",
    "mlflow.set_tracking_uri(\"/Users/killian/Desktop/Titanic/Notebook/mlruns\")\n"
   ]
  },
  {
   "cell_type": "markdown",
   "id": "5271add1-88a2-4128-92af-7d828b93f86e",
   "metadata": {},
   "source": [
    "## Créer de nouvelles données"
   ]
  },
  {
   "cell_type": "code",
   "execution_count": 23,
   "id": "abebea73-6c95-4c24-b47d-d6d995e6765c",
   "metadata": {},
   "outputs": [
    {
     "name": "stdout",
     "output_type": "stream",
     "text": [
      "Anciennes données:\n",
      "   PassengerId  Survived  Pclass  \\\n",
      "0            1         0       3   \n",
      "1            2         1       1   \n",
      "2            3         1       3   \n",
      "3            4         1       1   \n",
      "4            5         0       3   \n",
      "\n",
      "                                                Name     Sex   Age  SibSp  \\\n",
      "0                            Braund, Mr. Owen Harris    male  22.0      1   \n",
      "1  Cumings, Mrs. John Bradley (Florence Briggs Th...  female  38.0      1   \n",
      "2                             Heikkinen, Miss. Laina  female  26.0      0   \n",
      "3       Futrelle, Mrs. Jacques Heath (Lily May Peel)  female  35.0      1   \n",
      "4                           Allen, Mr. William Henry    male  35.0      0   \n",
      "\n",
      "   Parch            Ticket     Fare Cabin Embarked  \n",
      "0      0         A/5 21171   7.2500   NaN        S  \n",
      "1      0          PC 17599  71.2833   C85        C  \n",
      "2      0  STON/O2. 3101282   7.9250   NaN        S  \n",
      "3      0            113803  53.1000  C123        S  \n",
      "4      0            373450   8.0500   NaN        S  \n",
      "Nouvelles données:\n",
      "     PassengerId  Pclass                                               Name  \\\n",
      "709          710       3  Moubarek, Master. Halim Gonios (\"William George\")   \n",
      "439          440       2             Kvillner, Mr. Johan Henrik Johannesson   \n",
      "840          841       3                        Alhomaki, Mr. Ilmari Rudolf   \n",
      "720          721       2                  Harper, Miss. Annie Jessie \"Nina\"   \n",
      "39            40       3                        Nicola-Yarred, Miss. Jamila   \n",
      "\n",
      "        Sex   Age  SibSp  Parch            Ticket     Fare Cabin Embarked  \n",
      "709    male   NaN      1      1              2661  15.2458   NaN        C  \n",
      "439    male  31.0      0      0        C.A. 18723  10.5000   NaN        S  \n",
      "840    male  20.0      0      0  SOTON/O2 3101287   7.9250   NaN        S  \n",
      "720  female   6.0      0      1            248727  33.0000   NaN        S  \n",
      "39   female  14.0      1      0              2651  11.2417   NaN        C  \n",
      "Les nouvelles données ont été enregistrées dans ../Data/new_data.csv\n"
     ]
    }
   ],
   "source": [
    "import pandas as pd\n",
    "\n",
    "# Charger l'ancien ensemble de données\n",
    "file_path = '../Data/train.csv'  \n",
    "train_df = pd.read_csv(file_path)\n",
    "\n",
    "# Afficher les premières lignes pour vérifier\n",
    "print(\"Anciennes données:\")\n",
    "print(train_df.head())\n",
    "\n",
    "# Créer un échantillon des données existantes\n",
    "new_data = train_df.sample(frac=0.1, random_state=42) \n",
    "\n",
    "# Supprimer la colonne 'Survived' \n",
    "new_data = new_data.drop(columns=['Survived'])\n",
    "\n",
    "\n",
    "print(\"Nouvelles données:\")\n",
    "print(new_data.head())\n",
    "\n",
    "# Enregistrer les nouvelles données dans un fichier CSV\n",
    "new_data_path = '../Data/new_data.csv' \n",
    "new_data.to_csv(new_data_path, index=False)\n",
    "\n",
    "print(f\"Les nouvelles données ont été enregistrées dans {new_data_path}\")"
   ]
  },
  {
   "cell_type": "markdown",
   "id": "370d06ed-c4f6-44c6-b0dd-10cc6f291450",
   "metadata": {},
   "source": [
    "##  Charger les nouvelles données"
   ]
  },
  {
   "cell_type": "code",
   "execution_count": 20,
   "id": "fcc491a8-5beb-4373-81ef-1ecc13f6b8e5",
   "metadata": {},
   "outputs": [
    {
     "data": {
      "text/html": [
       "<div>\n",
       "<style scoped>\n",
       "    .dataframe tbody tr th:only-of-type {\n",
       "        vertical-align: middle;\n",
       "    }\n",
       "\n",
       "    .dataframe tbody tr th {\n",
       "        vertical-align: top;\n",
       "    }\n",
       "\n",
       "    .dataframe thead th {\n",
       "        text-align: right;\n",
       "    }\n",
       "</style>\n",
       "<table border=\"1\" class=\"dataframe\">\n",
       "  <thead>\n",
       "    <tr style=\"text-align: right;\">\n",
       "      <th></th>\n",
       "      <th>PassengerId</th>\n",
       "      <th>Pclass</th>\n",
       "      <th>Name</th>\n",
       "      <th>Sex</th>\n",
       "      <th>Age</th>\n",
       "      <th>SibSp</th>\n",
       "      <th>Parch</th>\n",
       "      <th>Ticket</th>\n",
       "      <th>Fare</th>\n",
       "      <th>Cabin</th>\n",
       "      <th>Embarked</th>\n",
       "    </tr>\n",
       "  </thead>\n",
       "  <tbody>\n",
       "    <tr>\n",
       "      <th>0</th>\n",
       "      <td>710</td>\n",
       "      <td>3</td>\n",
       "      <td>Moubarek, Master. Halim Gonios (\"William George\")</td>\n",
       "      <td>male</td>\n",
       "      <td>NaN</td>\n",
       "      <td>1</td>\n",
       "      <td>1</td>\n",
       "      <td>2661</td>\n",
       "      <td>15.2458</td>\n",
       "      <td>NaN</td>\n",
       "      <td>C</td>\n",
       "    </tr>\n",
       "    <tr>\n",
       "      <th>1</th>\n",
       "      <td>440</td>\n",
       "      <td>2</td>\n",
       "      <td>Kvillner, Mr. Johan Henrik Johannesson</td>\n",
       "      <td>male</td>\n",
       "      <td>31.0</td>\n",
       "      <td>0</td>\n",
       "      <td>0</td>\n",
       "      <td>C.A. 18723</td>\n",
       "      <td>10.5000</td>\n",
       "      <td>NaN</td>\n",
       "      <td>S</td>\n",
       "    </tr>\n",
       "    <tr>\n",
       "      <th>2</th>\n",
       "      <td>841</td>\n",
       "      <td>3</td>\n",
       "      <td>Alhomaki, Mr. Ilmari Rudolf</td>\n",
       "      <td>male</td>\n",
       "      <td>20.0</td>\n",
       "      <td>0</td>\n",
       "      <td>0</td>\n",
       "      <td>SOTON/O2 3101287</td>\n",
       "      <td>7.9250</td>\n",
       "      <td>NaN</td>\n",
       "      <td>S</td>\n",
       "    </tr>\n",
       "    <tr>\n",
       "      <th>3</th>\n",
       "      <td>721</td>\n",
       "      <td>2</td>\n",
       "      <td>Harper, Miss. Annie Jessie \"Nina\"</td>\n",
       "      <td>female</td>\n",
       "      <td>6.0</td>\n",
       "      <td>0</td>\n",
       "      <td>1</td>\n",
       "      <td>248727</td>\n",
       "      <td>33.0000</td>\n",
       "      <td>NaN</td>\n",
       "      <td>S</td>\n",
       "    </tr>\n",
       "    <tr>\n",
       "      <th>4</th>\n",
       "      <td>40</td>\n",
       "      <td>3</td>\n",
       "      <td>Nicola-Yarred, Miss. Jamila</td>\n",
       "      <td>female</td>\n",
       "      <td>14.0</td>\n",
       "      <td>1</td>\n",
       "      <td>0</td>\n",
       "      <td>2651</td>\n",
       "      <td>11.2417</td>\n",
       "      <td>NaN</td>\n",
       "      <td>C</td>\n",
       "    </tr>\n",
       "  </tbody>\n",
       "</table>\n",
       "</div>"
      ],
      "text/plain": [
       "   PassengerId  Pclass                                               Name  \\\n",
       "0          710       3  Moubarek, Master. Halim Gonios (\"William George\")   \n",
       "1          440       2             Kvillner, Mr. Johan Henrik Johannesson   \n",
       "2          841       3                        Alhomaki, Mr. Ilmari Rudolf   \n",
       "3          721       2                  Harper, Miss. Annie Jessie \"Nina\"   \n",
       "4           40       3                        Nicola-Yarred, Miss. Jamila   \n",
       "\n",
       "      Sex   Age  SibSp  Parch            Ticket     Fare Cabin Embarked  \n",
       "0    male   NaN      1      1              2661  15.2458   NaN        C  \n",
       "1    male  31.0      0      0        C.A. 18723  10.5000   NaN        S  \n",
       "2    male  20.0      0      0  SOTON/O2 3101287   7.9250   NaN        S  \n",
       "3  female   6.0      0      1            248727  33.0000   NaN        S  \n",
       "4  female  14.0      1      0              2651  11.2417   NaN        C  "
      ]
     },
     "execution_count": 20,
     "metadata": {},
     "output_type": "execute_result"
    }
   ],
   "source": [
    "# Fonction pour charger les données\n",
    "def load_data(file_path):\n",
    "    return pd.read_csv(file_path)\n",
    "\n",
    "# Charger les nouvelles données\n",
    "new_data_path = '../Data/new_data.csv'  # Remplacez par le chemin réel de vos nouvelles données\n",
    "new_data = load_data(new_data_path)\n",
    "\n",
    "# Afficher les premières lignes des nouvelles données pour vérifier\n",
    "new_data.head()\n"
   ]
  },
  {
   "cell_type": "markdown",
   "id": "80ffcb7c-2e34-4f15-8e8c-2d7f5b95d539",
   "metadata": {},
   "source": [
    "## Obtenir le run ID"
   ]
  },
  {
   "cell_type": "code",
   "execution_count": 25,
   "id": "e80148f2-a3eb-4bdf-953b-adea38a82ea4",
   "metadata": {},
   "outputs": [
    {
     "name": "stdout",
     "output_type": "stream",
     "text": [
      "Run ID: 9137012ac2004efb8f86800195d51a9c\n",
      "Run ID: 0c1f52b37717437f9127b0166fcc0e80\n",
      "Run ID: a7ea4a26a78245d49f7c289ee7da3f47\n",
      "Run ID: 862fef78e410483bb79eae1ffe1bba9b\n",
      "Run ID: 3dca89f67ac04c9c97c856c304a7c0d5\n",
      "Run ID: b03e8d8721534b7489a0cdf04d1cf23f\n",
      "Run ID: f5ecc3ecb2e2407688c044dab9cec6d3\n",
      "Run ID: 5d789c02ac80498c972cd5ce6024bea9\n",
      "Run ID: bab8007b4e12403cba1ebf29059a9b7d\n"
     ]
    }
   ],
   "source": [
    "\n",
    "\n",
    "# Initialiser le client MLflow\n",
    "client = MlflowClient()\n",
    "\n",
    "# Obtenir l'ID de l'expérience (par exemple, l'expérience par défaut)\n",
    "experiment_name = \"Titanic\"  # Remplacez par le nom de votre expérience si nécessaire\n",
    "experiment = client.get_experiment_by_name(experiment_name)\n",
    "experiment_id = experiment.experiment_id\n",
    "\n",
    "# Lister tous les runs dans l'expérience\n",
    "runs = client.search_runs([experiment_id])\n",
    "\n",
    "# Afficher les Run IDs\n",
    "for run in runs:\n",
    "    print(\"Run ID:\", run.info.run_id)\n",
    "\n"
   ]
  },
  {
   "cell_type": "markdown",
   "id": "78e2f919-2b2f-4307-9ccd-16795c9689aa",
   "metadata": {},
   "source": [
    "##  Charger le modèle depuis MLflow"
   ]
  },
  {
   "cell_type": "code",
   "execution_count": 22,
   "id": "81fd2111-7874-461e-b902-32330958c29e",
   "metadata": {},
   "outputs": [
    {
     "ename": "AttributeError",
     "evalue": "'NoneType' object has no attribute 'info'",
     "output_type": "error",
     "traceback": [
      "\u001b[0;31m---------------------------------------------------------------------------\u001b[0m",
      "\u001b[0;31mAttributeError\u001b[0m                            Traceback (most recent call last)",
      "Cell \u001b[0;32mIn[22], line 3\u001b[0m\n\u001b[1;32m      1\u001b[0m \u001b[38;5;66;03m# Spécifiez le Run ID du modèle MLflow que vous voulez charger\u001b[39;00m\n\u001b[1;32m      2\u001b[0m run_id \u001b[38;5;241m=\u001b[39mrun\u001b[38;5;241m.\u001b[39minfo\u001b[38;5;241m.\u001b[39mrun_id\n\u001b[0;32m----> 3\u001b[0m model_uri \u001b[38;5;241m=\u001b[39m \u001b[38;5;124mf\u001b[39m\u001b[38;5;124m\"\u001b[39m\u001b[38;5;124mruns:/\u001b[39m\u001b[38;5;132;01m{\u001b[39;00m\u001b[43mmlflow\u001b[49m\u001b[38;5;241;43m.\u001b[39;49m\u001b[43mactive_run\u001b[49m\u001b[43m(\u001b[49m\u001b[43m)\u001b[49m\u001b[38;5;241;43m.\u001b[39;49m\u001b[43minfo\u001b[49m\u001b[38;5;241m.\u001b[39mrun_id\u001b[38;5;132;01m}\u001b[39;00m\u001b[38;5;124m/random_forest_model\u001b[39m\u001b[38;5;124m\"\u001b[39m\n\u001b[1;32m      5\u001b[0m \u001b[38;5;66;03m# Charger le modèle depuis MLflow\u001b[39;00m\n\u001b[1;32m      6\u001b[0m loaded_model \u001b[38;5;241m=\u001b[39m mlflow\u001b[38;5;241m.\u001b[39msklearn\u001b[38;5;241m.\u001b[39mload_model(model_uri)\n",
      "\u001b[0;31mAttributeError\u001b[0m: 'NoneType' object has no attribute 'info'"
     ]
    }
   ],
   "source": [
    "# Spécifiez le Run ID du modèle MLflow que vous voulez charger\n",
    "run_id =run.info.run_id\n",
    "model_uri = f\"runs:/{mlflow.active_run().info.run_id}/random_forest_model\"\n",
    "\n",
    "# Charger le modèle depuis MLflow\n",
    "loaded_model = mlflow.sklearn.load_model(model_uri)\n",
    "\n",
    "# Vérifiez que le modèle est bien chargé\n",
    "loaded_model\n"
   ]
  },
  {
   "cell_type": "markdown",
   "id": "46692256-5835-4c52-b9d9-7806b97ff934",
   "metadata": {},
   "source": [
    "## Préparer les nouvelles données"
   ]
  },
  {
   "cell_type": "code",
   "execution_count": 8,
   "id": "7933c372-692d-4ba3-b46b-f0455dd022bd",
   "metadata": {},
   "outputs": [
    {
     "name": "stdout",
     "output_type": "stream",
     "text": [
      "La colonne 'Survived' n'a pas été trouvée, on continue sans la supprimer.\n",
      "Premières lignes des nouvelles données après prétraitement:\n",
      "   PassengerId  Pclass                                               Name  \\\n",
      "0          710       3  Moubarek, Master. Halim Gonios (\"William George\")   \n",
      "1          440       2             Kvillner, Mr. Johan Henrik Johannesson   \n",
      "2          841       3                        Alhomaki, Mr. Ilmari Rudolf   \n",
      "3          721       2                  Harper, Miss. Annie Jessie \"Nina\"   \n",
      "4           40       3                        Nicola-Yarred, Miss. Jamila   \n",
      "\n",
      "      Sex   Age  SibSp  Parch            Ticket     Fare Cabin Embarked  \n",
      "0    male   NaN      1      1              2661  15.2458   NaN        C  \n",
      "1    male  31.0      0      0        C.A. 18723  10.5000   NaN        S  \n",
      "2    male  20.0      0      0  SOTON/O2 3101287   7.9250   NaN        S  \n",
      "3  female   6.0      0      1            248727  33.0000   NaN        S  \n",
      "4  female  14.0      1      0              2651  11.2417   NaN        C  \n"
     ]
    }
   ],
   "source": [
    "# Vérifier si la colonne 'Survived' existe\n",
    "if 'Survived' in new_data.columns:\n",
    "    print(\"La colonne 'Survived' a été trouvée, on la supprime.\")\n",
    "    X_new = new_data.drop(columns=['Survived'])  # Exemple de prétraitement\n",
    "else:\n",
    "    print(\"La colonne 'Survived' n'a pas été trouvée, on continue sans la supprimer.\")\n",
    "    X_new = new_data.copy()  # Assurez-vous que 'PassengerId' existe pour la prédiction\n",
    "\n",
    "# Afficher les premières lignes des nouvelles données après prétraitement\n",
    "print(\"Premières lignes des nouvelles données après prétraitement:\")\n",
    "print(X_new.head())\n"
   ]
  },
  {
   "cell_type": "markdown",
   "id": "ea8ce1b9-5617-44e1-99b1-60a803410412",
   "metadata": {},
   "source": [
    "## Appliquer le modèle pour faire des prédictions"
   ]
  },
  {
   "cell_type": "code",
   "execution_count": 24,
   "id": "0f14f474-e511-4005-a625-cc04569774e3",
   "metadata": {},
   "outputs": [
    {
     "ename": "NameError",
     "evalue": "name 'loaded_model' is not defined",
     "output_type": "error",
     "traceback": [
      "\u001b[0;31m---------------------------------------------------------------------------\u001b[0m",
      "\u001b[0;31mNameError\u001b[0m                                 Traceback (most recent call last)",
      "Cell \u001b[0;32mIn[24], line 2\u001b[0m\n\u001b[1;32m      1\u001b[0m \u001b[38;5;66;03m# Appliquer le modèle pour faire des prédictions\u001b[39;00m\n\u001b[0;32m----> 2\u001b[0m predictions \u001b[38;5;241m=\u001b[39m \u001b[43mloaded_model\u001b[49m\u001b[38;5;241m.\u001b[39mpredict(X_new)\n\u001b[1;32m      4\u001b[0m \u001b[38;5;66;03m# Générer le fichier submission.csv\u001b[39;00m\n\u001b[1;32m      5\u001b[0m submission_pred \u001b[38;5;241m=\u001b[39m pd\u001b[38;5;241m.\u001b[39mDataFrame({\u001b[38;5;124m'\u001b[39m\u001b[38;5;124mPassengerId\u001b[39m\u001b[38;5;124m'\u001b[39m: new_data[\u001b[38;5;124m'\u001b[39m\u001b[38;5;124mPassengerId\u001b[39m\u001b[38;5;124m'\u001b[39m], \u001b[38;5;124m'\u001b[39m\u001b[38;5;124mSurvived\u001b[39m\u001b[38;5;124m'\u001b[39m: predictions})\n",
      "\u001b[0;31mNameError\u001b[0m: name 'loaded_model' is not defined"
     ]
    }
   ],
   "source": [
    "# Appliquer le modèle pour faire des prédictions\n",
    "predictions = loaded_model.predict(X_new)\n",
    "\n",
    "# Générer le fichier submission.csv\n",
    "submission_pred = pd.DataFrame({'PassengerId': new_data['PassengerId'], 'Survived': predictions})\n",
    "submission_pred.to_csv('/submission_pred.csv', index=False)\n",
    "\n",
    "print(\"Les prédictions ont été enregistrées dans submission_pred.csv\")\n"
   ]
  },
  {
   "cell_type": "code",
   "execution_count": null,
   "id": "c5f10aaa-d4a2-4dd8-8bbf-c9a26e7970f7",
   "metadata": {},
   "outputs": [],
   "source": []
  }
 ],
 "metadata": {
  "kernelspec": {
   "display_name": "mon_projet_env",
   "language": "python",
   "name": "mon_projet_env"
  },
  "language_info": {
   "codemirror_mode": {
    "name": "ipython",
    "version": 3
   },
   "file_extension": ".py",
   "mimetype": "text/x-python",
   "name": "python",
   "nbconvert_exporter": "python",
   "pygments_lexer": "ipython3",
   "version": "3.12.3"
  }
 },
 "nbformat": 4,
 "nbformat_minor": 5
}
