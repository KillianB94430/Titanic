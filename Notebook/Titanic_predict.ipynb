{
 "cells": [
  {
   "cell_type": "markdown",
   "id": "b573d917-bd70-4277-80b5-6cd24568a3c2",
   "metadata": {},
   "source": [
    "## charge les données , les modèles, et applique les predictions du modèle sur les données recharger"
   ]
  },
  {
   "cell_type": "code",
   "execution_count": null,
   "id": "ddec4d85-0245-47b2-b082-9f392172d63a",
   "metadata": {},
   "outputs": [],
   "source": []
  }
 ],
 "metadata": {
  "kernelspec": {
   "display_name": "mon_projet_env",
   "language": "python",
   "name": "mon_projet_env"
  },
  "language_info": {
   "codemirror_mode": {
    "name": "ipython",
    "version": 3
   },
   "file_extension": ".py",
   "mimetype": "text/x-python",
   "name": "python",
   "nbconvert_exporter": "python",
   "pygments_lexer": "ipython3",
   "version": "3.12.3"
  }
 },
 "nbformat": 4,
 "nbformat_minor": 5
}
